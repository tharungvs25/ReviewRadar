{
  "cells": [
    {
      "cell_type": "code",
      "execution_count": null,
      "metadata": {
        "id": "W-vpR9QCOn2i"
      },
      "outputs": [],
      "source": [
        "# Importing essential libraries and functions\n",
        "\n",
        "import pandas as pd\n",
        "import numpy as np\n",
        "import re\n",
        "import nltk\n",
        "from nltk.corpus import stopwords\n",
        "from numpy import array\n",
        "import tensorflow as tf"
      ]
    },
    {
      "cell_type": "code",
      "execution_count": null,
      "metadata": {
        "id": "VLrw5M00gAZ3"
      },
      "outputs": [],
      "source": [
        "from keras.preprocessing.text import one_hot, Tokenizer\n",
        "from keras.models import Sequential\n",
        "from keras.layers.core import Activation, Dropout, Dense\n",
        "from keras.layers import Flatten, GlobalMaxPooling1D, Embedding, Conv1D, LSTM\n",
        "from sklearn.model_selection import train_test_split"
      ]
    },
    {
      "cell_type": "code",
      "execution_count": null,
      "metadata": {
        "id": "DiIs0_UPgAZ4"
      },
      "outputs": [],
      "source": [
        "from tensorflow.keras.preprocessing.sequence import pad_sequences"
      ]
    },
    {
      "cell_type": "markdown",
      "metadata": {
        "id": "q6FO9rxjxHe_"
      },
      "source": [
        "## Loading dataset"
      ]
    },
    {
      "cell_type": "code",
      "execution_count": null,
      "metadata": {
        "id": "sNL6yy_DO0n1"
      },
      "outputs": [],
      "source": [
        "\n",
        "\n",
        "amazon_review = pd.read_csv(\"amazon1_reviews.csv\")\n",
        "\n"
      ]
    },
    {
      "cell_type": "code",
      "execution_count": null,
      "metadata": {
        "colab": {
          "base_uri": "https://localhost:8080/"
        },
        "id": "elu2E2KjPBJX",
        "outputId": "22e0c258-e709-4c23-a9c6-adaadb3ac364"
      },
      "outputs": [
        {
          "data": {
            "text/plain": [
              "(53298, 8)"
            ]
          },
          "execution_count": 6,
          "metadata": {},
          "output_type": "execute_result"
        }
      ],
      "source": [
        "# Dataset exploration\n",
        "\n",
        "amazon_review.shape"
      ]
    },
    {
      "cell_type": "code",
      "execution_count": null,
      "metadata": {
        "colab": {
          "base_uri": "https://localhost:8080/",
          "height": 206
        },
        "id": "Ua8sjtdaPIAq",
        "outputId": "f3f15bdf-adc9-4f5a-a166-659cec59245f"
      },
      "outputs": [
        {
          "data": {
            "text/html": [
              "<div>\n",
              "<style scoped>\n",
              "    .dataframe tbody tr th:only-of-type {\n",
              "        vertical-align: middle;\n",
              "    }\n",
              "\n",
              "    .dataframe tbody tr th {\n",
              "        vertical-align: top;\n",
              "    }\n",
              "\n",
              "    .dataframe thead th {\n",
              "        text-align: right;\n",
              "    }\n",
              "</style>\n",
              "<table border=\"1\" class=\"dataframe\">\n",
              "  <thead>\n",
              "    <tr style=\"text-align: right;\">\n",
              "      <th></th>\n",
              "      <th>reviewId</th>\n",
              "      <th>userName</th>\n",
              "      <th>content</th>\n",
              "      <th>score</th>\n",
              "      <th>thumbsUpCount</th>\n",
              "      <th>reviewCreatedVersion</th>\n",
              "      <th>at</th>\n",
              "      <th>appVersion</th>\n",
              "    </tr>\n",
              "  </thead>\n",
              "  <tbody>\n",
              "    <tr>\n",
              "      <th>0</th>\n",
              "      <td>5306d3f8-516d-4453-9903-2d6d39fb0a75</td>\n",
              "      <td>Corey Britt</td>\n",
              "      <td>Okay so they told me to create a new account I...</td>\n",
              "      <td>1</td>\n",
              "      <td>0</td>\n",
              "      <td>28.12.0.100</td>\n",
              "      <td>2024-06-16 21:48:38</td>\n",
              "      <td>28.12.0.100</td>\n",
              "    </tr>\n",
              "    <tr>\n",
              "      <th>1</th>\n",
              "      <td>055d0ca9-277f-4318-aa32-33ab23781666</td>\n",
              "      <td>Bertha Garcia</td>\n",
              "      <td>👍</td>\n",
              "      <td>5</td>\n",
              "      <td>0</td>\n",
              "      <td>28.12.0.100</td>\n",
              "      <td>2024-06-16 21:44:12</td>\n",
              "      <td>28.12.0.100</td>\n",
              "    </tr>\n",
              "    <tr>\n",
              "      <th>2</th>\n",
              "      <td>3f98a5d8-bda3-4d4e-a004-238ccfc1a3df</td>\n",
              "      <td>Valerie Richardson</td>\n",
              "      <td>Always easy to use!</td>\n",
              "      <td>5</td>\n",
              "      <td>0</td>\n",
              "      <td>28.12.0.100</td>\n",
              "      <td>2024-06-16 21:43:43</td>\n",
              "      <td>28.12.0.100</td>\n",
              "    </tr>\n",
              "    <tr>\n",
              "      <th>3</th>\n",
              "      <td>7ba3fa36-39cd-4f35-ab23-dc55b3ff0495</td>\n",
              "      <td>Debbie Brotherton</td>\n",
              "      <td>Very good quick delivery</td>\n",
              "      <td>5</td>\n",
              "      <td>0</td>\n",
              "      <td>NaN</td>\n",
              "      <td>2024-06-16 21:32:44</td>\n",
              "      <td>NaN</td>\n",
              "    </tr>\n",
              "    <tr>\n",
              "      <th>4</th>\n",
              "      <td>26d63894-e155-4f8e-bd21-4c2cfdbe06f4</td>\n",
              "      <td>Nicholas Soto</td>\n",
              "      <td>I tried buying two items. My card was locked a...</td>\n",
              "      <td>2</td>\n",
              "      <td>0</td>\n",
              "      <td>28.12.0.100</td>\n",
              "      <td>2024-06-16 21:26:36</td>\n",
              "      <td>28.12.0.100</td>\n",
              "    </tr>\n",
              "  </tbody>\n",
              "</table>\n",
              "</div>"
            ],
            "text/plain": [
              "                               reviewId            userName  \\\n",
              "0  5306d3f8-516d-4453-9903-2d6d39fb0a75         Corey Britt   \n",
              "1  055d0ca9-277f-4318-aa32-33ab23781666       Bertha Garcia   \n",
              "2  3f98a5d8-bda3-4d4e-a004-238ccfc1a3df  Valerie Richardson   \n",
              "3  7ba3fa36-39cd-4f35-ab23-dc55b3ff0495   Debbie Brotherton   \n",
              "4  26d63894-e155-4f8e-bd21-4c2cfdbe06f4       Nicholas Soto   \n",
              "\n",
              "                                             content  score  thumbsUpCount  \\\n",
              "0  Okay so they told me to create a new account I...      1              0   \n",
              "1                                                  👍      5              0   \n",
              "2                                Always easy to use!      5              0   \n",
              "3                           Very good quick delivery      5              0   \n",
              "4  I tried buying two items. My card was locked a...      2              0   \n",
              "\n",
              "  reviewCreatedVersion                   at   appVersion  \n",
              "0          28.12.0.100  2024-06-16 21:48:38  28.12.0.100  \n",
              "1          28.12.0.100  2024-06-16 21:44:12  28.12.0.100  \n",
              "2          28.12.0.100  2024-06-16 21:43:43  28.12.0.100  \n",
              "3                  NaN  2024-06-16 21:32:44          NaN  \n",
              "4          28.12.0.100  2024-06-16 21:26:36  28.12.0.100  "
            ]
          },
          "execution_count": 7,
          "metadata": {},
          "output_type": "execute_result"
        }
      ],
      "source": [
        "amazon_review.head(5)"
      ]
    },
    {
      "cell_type": "code",
      "execution_count": null,
      "metadata": {
        "id": "39Yj22NugAZ8",
        "outputId": "351ff922-19dc-486b-f9ea-382dc542cf80"
      },
      "outputs": [
        {
          "data": {
            "text/html": [
              "<div>\n",
              "<style scoped>\n",
              "    .dataframe tbody tr th:only-of-type {\n",
              "        vertical-align: middle;\n",
              "    }\n",
              "\n",
              "    .dataframe tbody tr th {\n",
              "        vertical-align: top;\n",
              "    }\n",
              "\n",
              "    .dataframe thead th {\n",
              "        text-align: right;\n",
              "    }\n",
              "</style>\n",
              "<table border=\"1\" class=\"dataframe\">\n",
              "  <thead>\n",
              "    <tr style=\"text-align: right;\">\n",
              "      <th></th>\n",
              "      <th>reviewId</th>\n",
              "      <th>userName</th>\n",
              "      <th>content</th>\n",
              "      <th>score</th>\n",
              "      <th>thumbsUpCount</th>\n",
              "      <th>reviewCreatedVersion</th>\n",
              "      <th>at</th>\n",
              "      <th>appVersion</th>\n",
              "      <th>sentiment</th>\n",
              "    </tr>\n",
              "  </thead>\n",
              "  <tbody>\n",
              "    <tr>\n",
              "      <th>0</th>\n",
              "      <td>5306d3f8-516d-4453-9903-2d6d39fb0a75</td>\n",
              "      <td>Corey Britt</td>\n",
              "      <td>Okay so they told me to create a new account I...</td>\n",
              "      <td>1</td>\n",
              "      <td>0</td>\n",
              "      <td>28.12.0.100</td>\n",
              "      <td>2024-06-16 21:48:38</td>\n",
              "      <td>28.12.0.100</td>\n",
              "      <td>Bad</td>\n",
              "    </tr>\n",
              "    <tr>\n",
              "      <th>1</th>\n",
              "      <td>055d0ca9-277f-4318-aa32-33ab23781666</td>\n",
              "      <td>Bertha Garcia</td>\n",
              "      <td>👍</td>\n",
              "      <td>5</td>\n",
              "      <td>0</td>\n",
              "      <td>28.12.0.100</td>\n",
              "      <td>2024-06-16 21:44:12</td>\n",
              "      <td>28.12.0.100</td>\n",
              "      <td>Good</td>\n",
              "    </tr>\n",
              "    <tr>\n",
              "      <th>2</th>\n",
              "      <td>3f98a5d8-bda3-4d4e-a004-238ccfc1a3df</td>\n",
              "      <td>Valerie Richardson</td>\n",
              "      <td>Always easy to use!</td>\n",
              "      <td>5</td>\n",
              "      <td>0</td>\n",
              "      <td>28.12.0.100</td>\n",
              "      <td>2024-06-16 21:43:43</td>\n",
              "      <td>28.12.0.100</td>\n",
              "      <td>Good</td>\n",
              "    </tr>\n",
              "    <tr>\n",
              "      <th>3</th>\n",
              "      <td>7ba3fa36-39cd-4f35-ab23-dc55b3ff0495</td>\n",
              "      <td>Debbie Brotherton</td>\n",
              "      <td>Very good quick delivery</td>\n",
              "      <td>5</td>\n",
              "      <td>0</td>\n",
              "      <td>NaN</td>\n",
              "      <td>2024-06-16 21:32:44</td>\n",
              "      <td>NaN</td>\n",
              "      <td>Good</td>\n",
              "    </tr>\n",
              "    <tr>\n",
              "      <th>4</th>\n",
              "      <td>26d63894-e155-4f8e-bd21-4c2cfdbe06f4</td>\n",
              "      <td>Nicholas Soto</td>\n",
              "      <td>I tried buying two items. My card was locked a...</td>\n",
              "      <td>2</td>\n",
              "      <td>0</td>\n",
              "      <td>28.12.0.100</td>\n",
              "      <td>2024-06-16 21:26:36</td>\n",
              "      <td>28.12.0.100</td>\n",
              "      <td>Bad</td>\n",
              "    </tr>\n",
              "  </tbody>\n",
              "</table>\n",
              "</div>"
            ],
            "text/plain": [
              "                               reviewId            userName  \\\n",
              "0  5306d3f8-516d-4453-9903-2d6d39fb0a75         Corey Britt   \n",
              "1  055d0ca9-277f-4318-aa32-33ab23781666       Bertha Garcia   \n",
              "2  3f98a5d8-bda3-4d4e-a004-238ccfc1a3df  Valerie Richardson   \n",
              "3  7ba3fa36-39cd-4f35-ab23-dc55b3ff0495   Debbie Brotherton   \n",
              "4  26d63894-e155-4f8e-bd21-4c2cfdbe06f4       Nicholas Soto   \n",
              "\n",
              "                                             content  score  thumbsUpCount  \\\n",
              "0  Okay so they told me to create a new account I...      1              0   \n",
              "1                                                  👍      5              0   \n",
              "2                                Always easy to use!      5              0   \n",
              "3                           Very good quick delivery      5              0   \n",
              "4  I tried buying two items. My card was locked a...      2              0   \n",
              "\n",
              "  reviewCreatedVersion                   at   appVersion sentiment  \n",
              "0          28.12.0.100  2024-06-16 21:48:38  28.12.0.100       Bad  \n",
              "1          28.12.0.100  2024-06-16 21:44:12  28.12.0.100      Good  \n",
              "2          28.12.0.100  2024-06-16 21:43:43  28.12.0.100      Good  \n",
              "3                  NaN  2024-06-16 21:32:44          NaN      Good  \n",
              "4          28.12.0.100  2024-06-16 21:26:36  28.12.0.100       Bad  "
            ]
          },
          "execution_count": 8,
          "metadata": {},
          "output_type": "execute_result"
        }
      ],
      "source": [
        "def get_sentiment(score):\n",
        "  if score <= 3:\n",
        "    return 'Bad'\n",
        "  else:\n",
        "    return 'Good'\n",
        "\n",
        "amazon_review['sentiment'] = amazon_review['score'].apply(get_sentiment)\n",
        "amazon_review.head()"
      ]
    },
    {
      "cell_type": "code",
      "execution_count": null,
      "metadata": {
        "colab": {
          "base_uri": "https://localhost:8080/"
        },
        "id": "CRIDYlo4O8Va",
        "outputId": "c2e8cbe3-7487-4b82-931a-d6e8bd2bce9f"
      },
      "outputs": [
        {
          "data": {
            "text/plain": [
              "True"
            ]
          },
          "execution_count": 9,
          "metadata": {},
          "output_type": "execute_result"
        }
      ],
      "source": [
        "# Checking for missing values\n",
        "\n",
        "amazon_review.isnull().values.any()"
      ]
    },
    {
      "cell_type": "code",
      "execution_count": null,
      "metadata": {
        "id": "m0z4uPJ0gAZ-",
        "outputId": "13e2f6a6-7e09-4a90-a1e1-6ef08169df3f"
      },
      "outputs": [
        {
          "name": "stdout",
          "output_type": "stream",
          "text": [
            "Null values in each column:\n",
            " reviewId                   0\n",
            "userName                   5\n",
            "content                    2\n",
            "score                      0\n",
            "thumbsUpCount              0\n",
            "reviewCreatedVersion    5239\n",
            "at                         0\n",
            "appVersion              5239\n",
            "sentiment                  0\n",
            "dtype: int64\n"
          ]
        }
      ],
      "source": [
        "print(\"Null values in each column:\\n\", amazon_review.isnull().sum())"
      ]
    },
    {
      "cell_type": "code",
      "execution_count": null,
      "metadata": {
        "id": "JlfWxZmqgAZ-"
      },
      "outputs": [],
      "source": [
        "amazon_review = amazon_review.dropna()\n"
      ]
    },
    {
      "cell_type": "code",
      "execution_count": null,
      "metadata": {
        "id": "VUdHFWe3gAZ_",
        "outputId": "2f0250ab-85ee-4930-b3f3-f9c43c7aaa65"
      },
      "outputs": [
        {
          "data": {
            "text/plain": [
              "False"
            ]
          },
          "execution_count": 12,
          "metadata": {},
          "output_type": "execute_result"
        }
      ],
      "source": [
        "# Checking for missing values\n",
        "\n",
        "amazon_review.isnull().values.any()"
      ]
    },
    {
      "cell_type": "code",
      "execution_count": null,
      "metadata": {
        "id": "G0x4g1kQgAZ_",
        "outputId": "2b4998ad-625d-4902-8fc7-e67184cab558"
      },
      "outputs": [
        {
          "name": "stdout",
          "output_type": "stream",
          "text": [
            "Index(['reviewId', 'userName', 'content', 'score', 'thumbsUpCount',\n",
            "       'reviewCreatedVersion', 'at', 'appVersion', 'sentiment'],\n",
            "      dtype='object')\n"
          ]
        }
      ],
      "source": [
        "print(amazon_review.columns)\n"
      ]
    },
    {
      "cell_type": "code",
      "execution_count": null,
      "metadata": {
        "id": "z42NSB9dgAZ_"
      },
      "outputs": [],
      "source": [
        "amazon_review = amazon_review.drop([\"userName\", \"reviewCreatedVersion\"], axis=1)"
      ]
    },
    {
      "cell_type": "code",
      "execution_count": null,
      "metadata": {
        "id": "BUes7KdAgAaA",
        "outputId": "ff576fb4-7078-4000-b895-71fe554f67e0"
      },
      "outputs": [
        {
          "data": {
            "text/html": [
              "<div>\n",
              "<style scoped>\n",
              "    .dataframe tbody tr th:only-of-type {\n",
              "        vertical-align: middle;\n",
              "    }\n",
              "\n",
              "    .dataframe tbody tr th {\n",
              "        vertical-align: top;\n",
              "    }\n",
              "\n",
              "    .dataframe thead th {\n",
              "        text-align: right;\n",
              "    }\n",
              "</style>\n",
              "<table border=\"1\" class=\"dataframe\">\n",
              "  <thead>\n",
              "    <tr style=\"text-align: right;\">\n",
              "      <th></th>\n",
              "      <th>reviewId</th>\n",
              "      <th>content</th>\n",
              "      <th>score</th>\n",
              "      <th>thumbsUpCount</th>\n",
              "      <th>at</th>\n",
              "      <th>appVersion</th>\n",
              "      <th>sentiment</th>\n",
              "    </tr>\n",
              "  </thead>\n",
              "  <tbody>\n",
              "    <tr>\n",
              "      <th>0</th>\n",
              "      <td>5306d3f8-516d-4453-9903-2d6d39fb0a75</td>\n",
              "      <td>Okay so they told me to create a new account I...</td>\n",
              "      <td>1</td>\n",
              "      <td>0</td>\n",
              "      <td>2024-06-16 21:48:38</td>\n",
              "      <td>28.12.0.100</td>\n",
              "      <td>Bad</td>\n",
              "    </tr>\n",
              "    <tr>\n",
              "      <th>1</th>\n",
              "      <td>055d0ca9-277f-4318-aa32-33ab23781666</td>\n",
              "      <td>👍</td>\n",
              "      <td>5</td>\n",
              "      <td>0</td>\n",
              "      <td>2024-06-16 21:44:12</td>\n",
              "      <td>28.12.0.100</td>\n",
              "      <td>Good</td>\n",
              "    </tr>\n",
              "    <tr>\n",
              "      <th>2</th>\n",
              "      <td>3f98a5d8-bda3-4d4e-a004-238ccfc1a3df</td>\n",
              "      <td>Always easy to use!</td>\n",
              "      <td>5</td>\n",
              "      <td>0</td>\n",
              "      <td>2024-06-16 21:43:43</td>\n",
              "      <td>28.12.0.100</td>\n",
              "      <td>Good</td>\n",
              "    </tr>\n",
              "    <tr>\n",
              "      <th>4</th>\n",
              "      <td>26d63894-e155-4f8e-bd21-4c2cfdbe06f4</td>\n",
              "      <td>I tried buying two items. My card was locked a...</td>\n",
              "      <td>2</td>\n",
              "      <td>0</td>\n",
              "      <td>2024-06-16 21:26:36</td>\n",
              "      <td>28.12.0.100</td>\n",
              "      <td>Bad</td>\n",
              "    </tr>\n",
              "    <tr>\n",
              "      <th>5</th>\n",
              "      <td>fff47ed5-bf78-41af-82f5-a05b2a298901</td>\n",
              "      <td>fast, reliable and if there is a return, it ca...</td>\n",
              "      <td>5</td>\n",
              "      <td>0</td>\n",
              "      <td>2024-06-16 20:57:22</td>\n",
              "      <td>28.11.2.100</td>\n",
              "      <td>Good</td>\n",
              "    </tr>\n",
              "    <tr>\n",
              "      <th>6</th>\n",
              "      <td>008c603a-7347-45d1-89dc-1013473b0dd2</td>\n",
              "      <td>amazing 👏</td>\n",
              "      <td>5</td>\n",
              "      <td>0</td>\n",
              "      <td>2024-06-16 20:50:32</td>\n",
              "      <td>28.12.0.100</td>\n",
              "      <td>Good</td>\n",
              "    </tr>\n",
              "    <tr>\n",
              "      <th>7</th>\n",
              "      <td>ae3cfbf7-c849-44c4-b523-4e8bbaee4b20</td>\n",
              "      <td>I always have a great shopping experience with...</td>\n",
              "      <td>5</td>\n",
              "      <td>0</td>\n",
              "      <td>2024-06-16 20:47:51</td>\n",
              "      <td>28.12.0.100</td>\n",
              "      <td>Good</td>\n",
              "    </tr>\n",
              "    <tr>\n",
              "      <th>8</th>\n",
              "      <td>27b8e0fe-06ac-41fb-a63b-46689670fc88</td>\n",
              "      <td>Most of the time it's great. The only real iss...</td>\n",
              "      <td>3</td>\n",
              "      <td>0</td>\n",
              "      <td>2024-06-16 20:35:58</td>\n",
              "      <td>28.12.0.100</td>\n",
              "      <td>Bad</td>\n",
              "    </tr>\n",
              "    <tr>\n",
              "      <th>9</th>\n",
              "      <td>a6c5852a-5598-4198-a858-bea6caddcdc0</td>\n",
              "      <td>Stop video auto play once and for all. Down vo...</td>\n",
              "      <td>1</td>\n",
              "      <td>0</td>\n",
              "      <td>2024-06-16 20:04:46</td>\n",
              "      <td>28.12.0.100</td>\n",
              "      <td>Bad</td>\n",
              "    </tr>\n",
              "    <tr>\n",
              "      <th>11</th>\n",
              "      <td>0649a83e-f8fc-4203-bb52-b9fc65c1a798</td>\n",
              "      <td>Prices aren't as good as they used to be..</td>\n",
              "      <td>3</td>\n",
              "      <td>0</td>\n",
              "      <td>2024-06-16 19:36:49</td>\n",
              "      <td>28.12.0.100</td>\n",
              "      <td>Bad</td>\n",
              "    </tr>\n",
              "    <tr>\n",
              "      <th>12</th>\n",
              "      <td>cca73c8e-5d5e-4cdc-bbfa-a84cc6e9c9ba</td>\n",
              "      <td>can find anything you need</td>\n",
              "      <td>5</td>\n",
              "      <td>0</td>\n",
              "      <td>2024-06-16 18:37:23</td>\n",
              "      <td>28.12.0.100</td>\n",
              "      <td>Good</td>\n",
              "    </tr>\n",
              "    <tr>\n",
              "      <th>13</th>\n",
              "      <td>c902ebc6-dcd5-4b4d-8246-7f57d86066f2</td>\n",
              "      <td>Good so far</td>\n",
              "      <td>4</td>\n",
              "      <td>0</td>\n",
              "      <td>2024-06-16 18:29:20</td>\n",
              "      <td>28.12.0.100</td>\n",
              "      <td>Good</td>\n",
              "    </tr>\n",
              "    <tr>\n",
              "      <th>15</th>\n",
              "      <td>b4a33ece-51cf-475d-b216-50457d48ad22</td>\n",
              "      <td>good app</td>\n",
              "      <td>5</td>\n",
              "      <td>0</td>\n",
              "      <td>2024-06-16 18:07:17</td>\n",
              "      <td>28.11.2.100</td>\n",
              "      <td>Good</td>\n",
              "    </tr>\n",
              "    <tr>\n",
              "      <th>17</th>\n",
              "      <td>4de2d88c-db45-4e75-806d-1eddc9ef6ccc</td>\n",
              "      <td>Google play will continue to charge you even a...</td>\n",
              "      <td>5</td>\n",
              "      <td>0</td>\n",
              "      <td>2024-06-16 17:31:38</td>\n",
              "      <td>28.12.0.100</td>\n",
              "      <td>Good</td>\n",
              "    </tr>\n",
              "    <tr>\n",
              "      <th>19</th>\n",
              "      <td>3903bad2-ed89-4f0d-8268-c97db0a075e4</td>\n",
              "      <td>Always great 👍.</td>\n",
              "      <td>5</td>\n",
              "      <td>0</td>\n",
              "      <td>2024-06-16 17:01:36</td>\n",
              "      <td>28.12.0.100</td>\n",
              "      <td>Good</td>\n",
              "    </tr>\n",
              "    <tr>\n",
              "      <th>21</th>\n",
              "      <td>10d6d7d2-fcd4-4291-9d24-808bb9374c46</td>\n",
              "      <td>worst experience ever</td>\n",
              "      <td>1</td>\n",
              "      <td>0</td>\n",
              "      <td>2024-06-16 16:29:02</td>\n",
              "      <td>28.12.0.100</td>\n",
              "      <td>Bad</td>\n",
              "    </tr>\n",
              "    <tr>\n",
              "      <th>22</th>\n",
              "      <td>35182d01-b9e7-4a51-8818-516de86eb2aa</td>\n",
              "      <td>Easy, fast and wonderful prices and if you nee...</td>\n",
              "      <td>5</td>\n",
              "      <td>0</td>\n",
              "      <td>2024-06-16 16:19:12</td>\n",
              "      <td>28.1.0.100</td>\n",
              "      <td>Good</td>\n",
              "    </tr>\n",
              "    <tr>\n",
              "      <th>23</th>\n",
              "      <td>dfbaf6b2-0671-4fd6-b0bd-fba5f0b4c272</td>\n",
              "      <td>You Need To Add a sort option where you can so...</td>\n",
              "      <td>4</td>\n",
              "      <td>0</td>\n",
              "      <td>2024-06-16 16:14:52</td>\n",
              "      <td>28.12.0.100</td>\n",
              "      <td>Good</td>\n",
              "    </tr>\n",
              "    <tr>\n",
              "      <th>24</th>\n",
              "      <td>0e4378a6-19a3-4edb-87e4-3a228896cfa5</td>\n",
              "      <td>Being housebound means that I am dependent on ...</td>\n",
              "      <td>5</td>\n",
              "      <td>0</td>\n",
              "      <td>2024-06-16 16:11:40</td>\n",
              "      <td>28.12.0.100</td>\n",
              "      <td>Good</td>\n",
              "    </tr>\n",
              "    <tr>\n",
              "      <th>25</th>\n",
              "      <td>68562fff-6ded-46cc-8b81-5ba9f8fb09d1</td>\n",
              "      <td>Whats with the whole food returns and now you ...</td>\n",
              "      <td>1</td>\n",
              "      <td>3</td>\n",
              "      <td>2024-06-16 16:00:05</td>\n",
              "      <td>28.12.0.100</td>\n",
              "      <td>Bad</td>\n",
              "    </tr>\n",
              "  </tbody>\n",
              "</table>\n",
              "</div>"
            ],
            "text/plain": [
              "                                reviewId  \\\n",
              "0   5306d3f8-516d-4453-9903-2d6d39fb0a75   \n",
              "1   055d0ca9-277f-4318-aa32-33ab23781666   \n",
              "2   3f98a5d8-bda3-4d4e-a004-238ccfc1a3df   \n",
              "4   26d63894-e155-4f8e-bd21-4c2cfdbe06f4   \n",
              "5   fff47ed5-bf78-41af-82f5-a05b2a298901   \n",
              "6   008c603a-7347-45d1-89dc-1013473b0dd2   \n",
              "7   ae3cfbf7-c849-44c4-b523-4e8bbaee4b20   \n",
              "8   27b8e0fe-06ac-41fb-a63b-46689670fc88   \n",
              "9   a6c5852a-5598-4198-a858-bea6caddcdc0   \n",
              "11  0649a83e-f8fc-4203-bb52-b9fc65c1a798   \n",
              "12  cca73c8e-5d5e-4cdc-bbfa-a84cc6e9c9ba   \n",
              "13  c902ebc6-dcd5-4b4d-8246-7f57d86066f2   \n",
              "15  b4a33ece-51cf-475d-b216-50457d48ad22   \n",
              "17  4de2d88c-db45-4e75-806d-1eddc9ef6ccc   \n",
              "19  3903bad2-ed89-4f0d-8268-c97db0a075e4   \n",
              "21  10d6d7d2-fcd4-4291-9d24-808bb9374c46   \n",
              "22  35182d01-b9e7-4a51-8818-516de86eb2aa   \n",
              "23  dfbaf6b2-0671-4fd6-b0bd-fba5f0b4c272   \n",
              "24  0e4378a6-19a3-4edb-87e4-3a228896cfa5   \n",
              "25  68562fff-6ded-46cc-8b81-5ba9f8fb09d1   \n",
              "\n",
              "                                              content  score  thumbsUpCount  \\\n",
              "0   Okay so they told me to create a new account I...      1              0   \n",
              "1                                                   👍      5              0   \n",
              "2                                 Always easy to use!      5              0   \n",
              "4   I tried buying two items. My card was locked a...      2              0   \n",
              "5   fast, reliable and if there is a return, it ca...      5              0   \n",
              "6                                           amazing 👏      5              0   \n",
              "7   I always have a great shopping experience with...      5              0   \n",
              "8   Most of the time it's great. The only real iss...      3              0   \n",
              "9   Stop video auto play once and for all. Down vo...      1              0   \n",
              "11         Prices aren't as good as they used to be..      3              0   \n",
              "12                         can find anything you need      5              0   \n",
              "13                                        Good so far      4              0   \n",
              "15                                           good app      5              0   \n",
              "17  Google play will continue to charge you even a...      5              0   \n",
              "19                                    Always great 👍.      5              0   \n",
              "21                              worst experience ever      1              0   \n",
              "22  Easy, fast and wonderful prices and if you nee...      5              0   \n",
              "23  You Need To Add a sort option where you can so...      4              0   \n",
              "24  Being housebound means that I am dependent on ...      5              0   \n",
              "25  Whats with the whole food returns and now you ...      1              3   \n",
              "\n",
              "                     at   appVersion sentiment  \n",
              "0   2024-06-16 21:48:38  28.12.0.100       Bad  \n",
              "1   2024-06-16 21:44:12  28.12.0.100      Good  \n",
              "2   2024-06-16 21:43:43  28.12.0.100      Good  \n",
              "4   2024-06-16 21:26:36  28.12.0.100       Bad  \n",
              "5   2024-06-16 20:57:22  28.11.2.100      Good  \n",
              "6   2024-06-16 20:50:32  28.12.0.100      Good  \n",
              "7   2024-06-16 20:47:51  28.12.0.100      Good  \n",
              "8   2024-06-16 20:35:58  28.12.0.100       Bad  \n",
              "9   2024-06-16 20:04:46  28.12.0.100       Bad  \n",
              "11  2024-06-16 19:36:49  28.12.0.100       Bad  \n",
              "12  2024-06-16 18:37:23  28.12.0.100      Good  \n",
              "13  2024-06-16 18:29:20  28.12.0.100      Good  \n",
              "15  2024-06-16 18:07:17  28.11.2.100      Good  \n",
              "17  2024-06-16 17:31:38  28.12.0.100      Good  \n",
              "19  2024-06-16 17:01:36  28.12.0.100      Good  \n",
              "21  2024-06-16 16:29:02  28.12.0.100       Bad  \n",
              "22  2024-06-16 16:19:12   28.1.0.100      Good  \n",
              "23  2024-06-16 16:14:52  28.12.0.100      Good  \n",
              "24  2024-06-16 16:11:40  28.12.0.100      Good  \n",
              "25  2024-06-16 16:00:05  28.12.0.100       Bad  "
            ]
          },
          "execution_count": 15,
          "metadata": {},
          "output_type": "execute_result"
        }
      ],
      "source": [
        "amazon_review.head(20)"
      ]
    },
    {
      "cell_type": "code",
      "execution_count": null,
      "metadata": {
        "colab": {
          "base_uri": "https://localhost:8080/",
          "height": 296
        },
        "id": "ys4A3cAFPSYI",
        "outputId": "2fe3d6c3-06b2-4cc4-c1d2-2ad120757a0e"
      },
      "outputs": [
        {
          "data": {
            "text/plain": [
              "<AxesSubplot: xlabel='sentiment', ylabel='count'>"
            ]
          },
          "execution_count": 16,
          "metadata": {},
          "output_type": "execute_result"
        },
        {
          "data": {
            "image/png": "[encoded data removed]",
            "text/plain": [
              "<Figure size 640x480 with 1 Axes>"
            ]
          },
          "metadata": {},
          "output_type": "display_data"
        }
      ],
      "source": [
        "# Let's observe distribution of positive / negative sentiments in dataset\n",
        "\n",
        "import seaborn as sns\n",
        "sns.countplot(x='sentiment', data=amazon_review)"
      ]
    },
    {
      "cell_type": "markdown",
      "metadata": {
        "id": "IAVIsg26PVZC"
      },
      "source": [
        "## Data Preprocessing"
      ]
    },
    {
      "cell_type": "code",
      "execution_count": null,
      "metadata": {
        "colab": {
          "base_uri": "https://localhost:8080/",
          "height": 122
        },
        "id": "PJ6a6aKjPORv",
        "outputId": "d4c23272-ac55-4b30-b2ce-51cf361f4e77"
      },
      "outputs": [
        {
          "data": {
            "text/plain": [
              "'Always easy to use!'"
            ]
          },
          "execution_count": 17,
          "metadata": {},
          "output_type": "execute_result"
        }
      ],
      "source": [
        "amazon_review[\"content\"][2]\n",
        "\n",
        "# You can see that our text contains punctuations, brackets, HTML tags and numbers\n",
        "# We will preprocess this text in the next section"
      ]
    },
    {
      "cell_type": "code",
      "execution_count": null,
      "metadata": {
        "id": "EUZLyOPdgAaB"
      },
      "outputs": [],
      "source": [
        "# import b2_preprocessing_function\n",
        "from b2_preprocessing_function import CustomPreprocess"
      ]
    },
    {
      "cell_type": "code",
      "execution_count": null,
      "metadata": {
        "id": "s7Eox5kpgAaB",
        "outputId": "9eecc500-330f-4b55-f966-2422b4a58439"
      },
      "outputs": [
        {
          "data": {
            "text/plain": [
              "'best days life'"
            ]
          },
          "execution_count": 19,
          "metadata": {},
          "output_type": "execute_result"
        }
      ],
      "source": [
        "custom = CustomPreprocess()\n",
        "custom.preprocess_text(\"Those were the best days of my life!\")"
      ]
    },
    {
      "cell_type": "code",
      "execution_count": null,
      "metadata": {
        "id": "GPSBPltpQDPp"
      },
      "outputs": [],
      "source": [
        "# Calling preprocessing_text function on amazon_review\n",
        "\n",
        "X = []\n",
        "sentences = list(amazon_review['content'])\n",
        "for sen in sentences:\n",
        "    X.append(custom.preprocess_text(sen))"
      ]
    },
    {
      "cell_type": "code",
      "execution_count": null,
      "metadata": {
        "id": "issp3rHegAaB",
        "outputId": "c9dc30e2-d96b-4cd3-8d87-ca738397e454"
      },
      "outputs": [
        {
          "data": {
            "text/plain": [
              "'always great shopping experience amazon'"
            ]
          },
          "execution_count": 21,
          "metadata": {},
          "output_type": "execute_result"
        }
      ],
      "source": [
        "# Sample cleaned up movie review\n",
        "\n",
        "X[6]"
      ]
    },
    {
      "cell_type": "code",
      "execution_count": null,
      "metadata": {
        "id": "fXNt0pc9gAaC"
      },
      "outputs": [],
      "source": [
        "# Converting sentiment labels to 0 & 1\n",
        "\n",
        "y = amazon_review['sentiment']\n",
        "\n",
        "y = np.array(list(map(lambda x: 1 if x==\"Good\" else 0, y)))"
      ]
    },
    {
      "cell_type": "code",
      "execution_count": null,
      "metadata": {
        "id": "e8APP8-2gAaC",
        "outputId": "babbf8a4-4b8b-48b0-eeeb-cf9c8fab129e"
      },
      "outputs": [
        {
          "data": {
            "text/plain": [
              "array([0, 1, 1, ..., 0, 0, 1])"
            ]
          },
          "execution_count": 23,
          "metadata": {},
          "output_type": "execute_result"
        }
      ],
      "source": [
        "y"
      ]
    },
    {
      "cell_type": "code",
      "execution_count": null,
      "metadata": {
        "id": "UZPyxSQVQPT_"
      },
      "outputs": [],
      "source": [
        "X_train, X_test, y_train, y_test = train_test_split(X, y, test_size=0.2, random_state=42)\n",
        "\n",
        "# The train set will be used to train our deep learning models\n",
        "# while test set will be used to evaluate how well our model performs"
      ]
    },
    {
      "cell_type": "markdown",
      "metadata": {
        "id": "FsF3k9QbQc5q"
      },
      "source": [
        "## Preparing embedding layer"
      ]
    },
    {
      "cell_type": "code",
      "execution_count": null,
      "metadata": {
        "id": "kZ5kWzGKeAgc"
      },
      "outputs": [],
      "source": [
        "# Embedding layer expects the words to be in numeric form\n",
        "# Using Tokenizer function from keras.preprocessing.text library\n",
        "# Method fit_on_text trains the tokenizer\n",
        "# Method texts_to_sequences converts sentences to their numeric form\n",
        "\n",
        "word_tokenizer = Tokenizer()\n",
        "word_tokenizer.fit_on_texts(X_train)\n",
        "\n",
        "X_train = word_tokenizer.texts_to_sequences(X_train)\n",
        "X_test = word_tokenizer.texts_to_sequences(X_test)"
      ]
    },
    {
      "cell_type": "code",
      "execution_count": null,
      "metadata": {
        "id": "KOsUFKQggAaD"
      },
      "outputs": [],
      "source": [
        "import io\n",
        "import json"
      ]
    },
    {
      "cell_type": "code",
      "execution_count": null,
      "metadata": {
        "id": "ovr0MmFWgAaD"
      },
      "outputs": [],
      "source": [
        "# Saving\n",
        "tokenizer_json = word_tokenizer.to_json()\n",
        "with io.open('b5_tokenizer.json', 'w', encoding='utf-8') as f:\n",
        "    f.write(json.dumps(tokenizer_json, ensure_ascii=False))"
      ]
    },
    {
      "cell_type": "code",
      "execution_count": null,
      "metadata": {
        "colab": {
          "base_uri": "https://localhost:8080/"
        },
        "id": "vn-Rj21reKVm",
        "outputId": "8bda9c62-df83-4e8e-c9af-d5f7ab98537e"
      },
      "outputs": [
        {
          "data": {
            "text/plain": [
              "24853"
            ]
          },
          "execution_count": 28,
          "metadata": {},
          "output_type": "execute_result"
        }
      ],
      "source": [
        "# Adding 1 to store dimensions for words for which no pretrained word embeddings exist\n",
        "\n",
        "vocab_length = len(word_tokenizer.word_index) + 1\n",
        "\n",
        "vocab_length"
      ]
    },
    {
      "cell_type": "code",
      "execution_count": null,
      "metadata": {
        "id": "9-QqBAR0hz22"
      },
      "outputs": [],
      "source": [
        "# Padding all reviews to fixed length 100\n",
        "\n",
        "maxlen = 100\n",
        "\n",
        "X_train = pad_sequences(X_train, padding='post', maxlen=maxlen)\n",
        "X_test = pad_sequences(X_test, padding='post', maxlen=maxlen)"
      ]
    },
    {
      "cell_type": "code",
      "execution_count": null,
      "metadata": {
        "id": "VH4uFszlRGPk"
      },
      "outputs": [],
      "source": [
        "# Load GloVe word embeddings and create an Embeddings Dictionary\n",
        "\n",
        "from numpy import asarray\n",
        "from numpy import zeros\n",
        "\n",
        "embeddings_dictionary = dict()\n",
        "glove_file = open('a2_glove.6B.100d.txt', encoding=\"utf8\")\n",
        "\n",
        "for line in glove_file:\n",
        "    records = line.split()\n",
        "    word = records[0]\n",
        "    vector_dimensions = asarray(records[1:], dtype='float32')\n",
        "    embeddings_dictionary [word] = vector_dimensions\n",
        "glove_file.close()"
      ]
    },
    {
      "cell_type": "code",
      "execution_count": null,
      "metadata": {
        "id": "ZN6SP61FSDZB"
      },
      "outputs": [],
      "source": [
        "# Create Embedding Matrix having 100 columns\n",
        "# Containing 100-dimensional GloVe word embeddings for all words in our corpus.\n",
        "\n",
        "embedding_matrix = zeros((vocab_length, 100))\n",
        "for word, index in word_tokenizer.word_index.items():\n",
        "    embedding_vector = embeddings_dictionary.get(word)\n",
        "    if embedding_vector is not None:\n",
        "        embedding_matrix[index] = embedding_vector"
      ]
    },
    {
      "cell_type": "code",
      "execution_count": null,
      "metadata": {
        "colab": {
          "base_uri": "https://localhost:8080/"
        },
        "id": "fjwFEeCmiAPo",
        "outputId": "2507711f-fcb8-4c89-f912-28512bdb476c"
      },
      "outputs": [
        {
          "data": {
            "text/plain": [
              "(24853, 100)"
            ]
          },
          "execution_count": 32,
          "metadata": {},
          "output_type": "execute_result"
        }
      ],
      "source": [
        "embedding_matrix.shape"
      ]
    },
    {
      "cell_type": "markdown",
      "metadata": {
        "id": "OW-AbfS3jNy_"
      },
      "source": [
        "# Model Training with:"
      ]
    },
    {
      "cell_type": "markdown",
      "metadata": {
        "id": "F_bNYrfoSIBj"
      },
      "source": [
        "## Simple Neural Network"
      ]
    },
    {
      "cell_type": "code",
      "execution_count": null,
      "metadata": {
        "id": "qf-U8d-WSFxk"
      },
      "outputs": [],
      "source": [
        "ann_model = Sequential()\n",
        "embedding_layer = Embedding(vocab_length, 100, weights=[embedding_matrix], input_length=maxlen , trainable=False)\n",
        "\n",
        "ann_model.add(embedding_layer)\n",
        "\n",
        "ann_model.add(Flatten())\n",
        "ann_model.add(Dense(1, activation='sigmoid'))"
      ]
    },
    {
      "cell_type": "code",
      "execution_count": null,
      "metadata": {
        "colab": {
          "base_uri": "https://localhost:8080/"
        },
        "id": "JjUzsDS5SOrH",
        "outputId": "368baadd-5208-4dcc-c0d5-755645fb5061"
      },
      "outputs": [
        {
          "name": "stdout",
          "output_type": "stream",
          "text": [
            "Model: \"sequential\"\n",
            "_________________________________________________________________\n",
            " Layer (type)                Output Shape              Param #   \n",
            "=================================================================\n",
            " embedding (Embedding)       (None, 100, 100)          2485300   \n",
            "                                                                 \n",
            " flatten (Flatten)           (None, 10000)             0         \n",
            "                                                                 \n",
            " dense (Dense)               (None, 1)                 10001     \n",
            "                                                                 \n",
            "=================================================================\n",
            "Total params: 2,495,301\n",
            "Trainable params: 10,001\n",
            "Non-trainable params: 2,485,300\n",
            "_________________________________________________________________\n",
            "None\n"
          ]
        }
      ],
      "source": [
        "# Model compiling\n",
        "\n",
        "ann_model.compile(optimizer='adam', loss='binary_crossentropy', metrics=['acc'])\n",
        "\n",
        "print(ann_model.summary())"
      ]
    },
    {
      "cell_type": "code",
      "execution_count": null,
      "metadata": {
        "id": "RFMyZWbZgAaG",
        "outputId": "7a603bed-e36e-46e4-b95a-73b8fe4f366c"
      },
      "outputs": [
        {
          "name": "stdout",
          "output_type": "stream",
          "text": [
            "Epoch 1/20\n",
            "241/241 [==============================] - 2s 5ms/step - loss: 0.3984 - acc: 0.8414 - val_loss: 0.3280 - val_acc: 0.8735\n",
            "Epoch 2/20\n",
            "241/241 [==============================] - 1s 5ms/step - loss: 0.3157 - acc: 0.8797 - val_loss: 0.3119 - val_acc: 0.8805\n",
            "Epoch 3/20\n",
            "241/241 [==============================] - 1s 5ms/step - loss: 0.2947 - acc: 0.8875 - val_loss: 0.3047 - val_acc: 0.8813\n",
            "Epoch 4/20\n",
            "241/241 [==============================] - 1s 4ms/step - loss: 0.2816 - acc: 0.8910 - val_loss: 0.3051 - val_acc: 0.8789\n",
            "Epoch 5/20\n",
            "241/241 [==============================] - 1s 4ms/step - loss: 0.2727 - acc: 0.8942 - val_loss: 0.3056 - val_acc: 0.8787\n",
            "Epoch 6/20\n",
            "241/241 [==============================] - 1s 4ms/step - loss: 0.2666 - acc: 0.8978 - val_loss: 0.3083 - val_acc: 0.8738\n",
            "Epoch 7/20\n",
            "241/241 [==============================] - 1s 4ms/step - loss: 0.2613 - acc: 0.9006 - val_loss: 0.3153 - val_acc: 0.8689\n",
            "Epoch 8/20\n",
            "241/241 [==============================] - 1s 4ms/step - loss: 0.2570 - acc: 0.9029 - val_loss: 0.3146 - val_acc: 0.8735\n",
            "Epoch 9/20\n",
            "241/241 [==============================] - 1s 4ms/step - loss: 0.2531 - acc: 0.9029 - val_loss: 0.3149 - val_acc: 0.8777\n",
            "Epoch 10/20\n",
            "241/241 [==============================] - 1s 4ms/step - loss: 0.2495 - acc: 0.9045 - val_loss: 0.3190 - val_acc: 0.8720\n",
            "Epoch 11/20\n",
            "241/241 [==============================] - 1s 4ms/step - loss: 0.2474 - acc: 0.9062 - val_loss: 0.3210 - val_acc: 0.8724\n",
            "Epoch 12/20\n",
            "241/241 [==============================] - 1s 4ms/step - loss: 0.2449 - acc: 0.9069 - val_loss: 0.3255 - val_acc: 0.8693\n",
            "Epoch 13/20\n",
            "241/241 [==============================] - 1s 4ms/step - loss: 0.2424 - acc: 0.9088 - val_loss: 0.3271 - val_acc: 0.8697\n",
            "Epoch 14/20\n",
            "241/241 [==============================] - 1s 4ms/step - loss: 0.2403 - acc: 0.9083 - val_loss: 0.3267 - val_acc: 0.8744\n",
            "Epoch 15/20\n",
            "241/241 [==============================] - 1s 4ms/step - loss: 0.2384 - acc: 0.9091 - val_loss: 0.3296 - val_acc: 0.8742\n",
            "Epoch 16/20\n",
            "241/241 [==============================] - 1s 4ms/step - loss: 0.2368 - acc: 0.9104 - val_loss: 0.3364 - val_acc: 0.8688\n",
            "Epoch 17/20\n",
            "241/241 [==============================] - 1s 4ms/step - loss: 0.2357 - acc: 0.9098 - val_loss: 0.3356 - val_acc: 0.8714\n",
            "Epoch 18/20\n",
            "241/241 [==============================] - 1s 4ms/step - loss: 0.2334 - acc: 0.9129 - val_loss: 0.3391 - val_acc: 0.8701\n",
            "Epoch 19/20\n",
            "241/241 [==============================] - 1s 4ms/step - loss: 0.2319 - acc: 0.9118 - val_loss: 0.3416 - val_acc: 0.8699\n",
            "Epoch 20/20\n",
            "241/241 [==============================] - 1s 5ms/step - loss: 0.2313 - acc: 0.9120 - val_loss: 0.3423 - val_acc: 0.8716\n"
          ]
        }
      ],
      "source": [
        "# Model training\n",
        "\n",
        "ann_model_history = ann_model.fit(X_train, y_train, batch_size=128, epochs=20, verbose=1, validation_split=0.2)"
      ]
    },
    {
      "cell_type": "code",
      "execution_count": null,
      "metadata": {
        "id": "hw8bVX4cgAaN",
        "outputId": "6568a4fc-df86-4a51-b36f-5fbbfbe9a086"
      },
      "outputs": [
        {
          "name": "stdout",
          "output_type": "stream",
          "text": [
            "301/301 [==============================] - 1s 2ms/step\n",
            "Classification Report:\n",
            "              precision    recall  f1-score   support\n",
            "\n",
            "    Negative       0.90      0.92      0.91      6644\n",
            "    Positive       0.81      0.77      0.79      2967\n",
            "\n",
            "    accuracy                           0.87      9611\n",
            "   macro avg       0.86      0.85      0.85      9611\n",
            "weighted avg       0.87      0.87      0.87      9611\n",
            "\n",
            "F1 Score: 0.7908022130013831\n",
            "Recall: 0.7708122682844624\n",
            "Precision: 0.8118565850195243\n"
          ]
        },
        {
          "data": {
            "image/png": "[encoded data removed]",
            "text/plain": [
              "<Figure size 640x480 with 2 Axes>"
            ]
          },
          "metadata": {},
          "output_type": "display_data"
        }
      ],
      "source": [
        "from sklearn.metrics import confusion_matrix, ConfusionMatrixDisplay, classification_report, f1_score, recall_score, precision_score\n",
        "import matplotlib.pyplot as plt\n",
        "y_pred = ann_model.predict(X_test)\n",
        "y_pred_binary = (y_pred > 0.5).astype(int)  # Convert probabilities to binary predictions (0 or 1)\n",
        "\n",
        "# Compute confusion matrix\n",
        "cm = confusion_matrix(y_test, y_pred_binary)\n",
        "from sklearn.metrics import confusion_matrix, ConfusionMatrixDisplay, classification_report, f1_score, recall_score, precision_score\n",
        "print(\"Classification Report:\")\n",
        "print(classification_report(y_test, y_pred_binary, target_names=['Negative', 'Positive']))\n",
        "\n",
        "# Calculate F1 score, recall, and precision\n",
        "f1 = f1_score(y_test, y_pred_binary)\n",
        "recall = recall_score(y_test, y_pred_binary)\n",
        "precision = precision_score(y_test, y_pred_binary)\n",
        "\n",
        "print(f\"F1 Score: {f1}\")\n",
        "print(f\"Recall: {recall}\")\n",
        "print(f\"Precision: {precision}\")\n",
        "\n",
        "# Display confusion matrix\n",
        "disp = ConfusionMatrixDisplay(confusion_matrix=cm, display_labels=['Negative', 'Positive'])\n",
        "disp.plot(cmap=plt.cm.Blues)\n",
        "plt.title('Confusion Matrix')\n",
        "plt.show()"
      ]
    },
    {
      "cell_type": "code",
      "execution_count": null,
      "metadata": {
        "colab": {
          "base_uri": "https://localhost:8080/"
        },
        "id": "bLiriTfNSYcc",
        "outputId": "6b323f4b-1b0e-4fe5-da9f-7175a716e359"
      },
      "outputs": [
        {
          "name": "stdout",
          "output_type": "stream",
          "text": [
            "301/301 [==============================] - 1s 2ms/step - loss: 0.3456 - acc: 0.8741\n"
          ]
        }
      ],
      "source": [
        "# Predictions on the Test Set\n",
        "\n",
        "score = ann_model.evaluate(X_test, y_test, verbose=1)"
      ]
    },
    {
      "cell_type": "code",
      "execution_count": null,
      "metadata": {
        "colab": {
          "base_uri": "https://localhost:8080/"
        },
        "id": "CeFtXQ9MSaaN",
        "outputId": "753874f7-357b-4c0b-91ed-c944ebbe0efb"
      },
      "outputs": [
        {
          "name": "stdout",
          "output_type": "stream",
          "text": [
            "Test Score: 0.3455880284309387\n",
            "Test Accuracy: 0.8741025924682617\n"
          ]
        }
      ],
      "source": [
        "# Model Performance\n",
        "\n",
        "print(\"Test Score:\", score[0])\n",
        "print(\"Test Accuracy:\", score[1])"
      ]
    },
    {
      "cell_type": "code",
      "execution_count": null,
      "metadata": {
        "colab": {
          "base_uri": "https://localhost:8080/",
          "height": 573
        },
        "id": "r55HElqVSc5K",
        "outputId": "a52b5052-ea2b-4eef-a92a-9843f4a6c934"
      },
      "outputs": [
        {
          "data": {
            "image/png": "[encoded data removed]",
            "text/plain": [
              "<Figure size 640x480 with 1 Axes>"
            ]
          },
          "metadata": {},
          "output_type": "display_data"
        },
        {
          "data": {
            "image/png": "[encoded data removed]",
            "text/plain": [
              "<Figure size 640x480 with 1 Axes>"
            ]
          },
          "metadata": {},
          "output_type": "display_data"
        }
      ],
      "source": [
        "# Model Performance Charts\n",
        "\n",
        "import matplotlib.pyplot as plt\n",
        "\n",
        "plt.plot(ann_model_history.history['acc'])\n",
        "plt.plot(ann_model_history.history['val_acc'])\n",
        "\n",
        "plt.title('model accuracy')\n",
        "plt.ylabel('accuracy')\n",
        "plt.xlabel('epoch')\n",
        "plt.legend(['train','test'], loc='upper left')\n",
        "plt.show()\n",
        "\n",
        "plt.plot(ann_model_history.history['loss'])\n",
        "plt.plot(ann_model_history.history['val_loss'])\n",
        "\n",
        "plt.title('model loss')\n",
        "plt.ylabel('loss')\n",
        "plt.xlabel('epoch')\n",
        "plt.legend(['train','test'], loc='upper left')\n",
        "plt.show()"
      ]
    },
    {
      "cell_type": "markdown",
      "metadata": {
        "id": "HMulFBC4SfAY"
      },
      "source": [
        "## Convolutional Neural Network"
      ]
    },
    {
      "cell_type": "code",
      "execution_count": null,
      "metadata": {
        "id": "CzNlGNGGUhVx"
      },
      "outputs": [],
      "source": [
        "from keras.layers import Conv1D"
      ]
    },
    {
      "cell_type": "code",
      "execution_count": null,
      "metadata": {
        "id": "kbVF6c4ASgUs"
      },
      "outputs": [],
      "source": [
        "# Neural Network architecture\n",
        "\n",
        "cnn_model = Sequential()\n",
        "\n",
        "embedding_layer = Embedding(vocab_length, 100, weights=[embedding_matrix], input_length=maxlen , trainable=False)\n",
        "cnn_model.add(embedding_layer)\n",
        "\n",
        "cnn_model.add(Conv1D(128, 5, activation='relu'))\n",
        "cnn_model.add(GlobalMaxPooling1D())\n",
        "cnn_model.add(Dense(1, activation='sigmoid'))"
      ]
    },
    {
      "cell_type": "code",
      "execution_count": null,
      "metadata": {
        "colab": {
          "base_uri": "https://localhost:8080/"
        },
        "id": "XayF5sTqSlP_",
        "outputId": "cab2695e-891c-4af7-90ca-3353b6ae3016"
      },
      "outputs": [
        {
          "name": "stdout",
          "output_type": "stream",
          "text": [
            "Model: \"sequential_1\"\n",
            "_________________________________________________________________\n",
            " Layer (type)                Output Shape              Param #   \n",
            "=================================================================\n",
            " embedding_1 (Embedding)     (None, 100, 100)          2485300   \n",
            "                                                                 \n",
            " conv1d (Conv1D)             (None, 96, 128)           64128     \n",
            "                                                                 \n",
            " global_max_pooling1d (Globa  (None, 128)              0         \n",
            " lMaxPooling1D)                                                  \n",
            "                                                                 \n",
            " dense_1 (Dense)             (None, 1)                 129       \n",
            "                                                                 \n",
            "=================================================================\n",
            "Total params: 2,549,557\n",
            "Trainable params: 64,257\n",
            "Non-trainable params: 2,485,300\n",
            "_________________________________________________________________\n",
            "None\n"
          ]
        }
      ],
      "source": [
        "# Model compiling\n",
        "\n",
        "cnn_model.compile(optimizer='adam', loss='binary_crossentropy', metrics=['acc'])\n",
        "print(cnn_model.summary())"
      ]
    },
    {
      "cell_type": "code",
      "execution_count": null,
      "metadata": {
        "colab": {
          "base_uri": "https://localhost:8080/"
        },
        "id": "AaF5Rc6GSnDY",
        "outputId": "3b01a193-f9f6-452c-aa65-2fadd8f90df7"
      },
      "outputs": [
        {
          "name": "stdout",
          "output_type": "stream",
          "text": [
            "Epoch 1/20\n",
            "241/241 [==============================] - 7s 26ms/step - loss: 0.3482 - acc: 0.8580 - val_loss: 0.2688 - val_acc: 0.8944\n",
            "Epoch 2/20\n",
            "241/241 [==============================] - 6s 25ms/step - loss: 0.2558 - acc: 0.9022 - val_loss: 0.2539 - val_acc: 0.9034\n",
            "Epoch 3/20\n",
            "241/241 [==============================] - 6s 24ms/step - loss: 0.2226 - acc: 0.9152 - val_loss: 0.2590 - val_acc: 0.9022\n",
            "Epoch 4/20\n",
            "241/241 [==============================] - 6s 24ms/step - loss: 0.1922 - acc: 0.9289 - val_loss: 0.2445 - val_acc: 0.9086\n",
            "Epoch 5/20\n",
            "241/241 [==============================] - 6s 24ms/step - loss: 0.1604 - acc: 0.9443 - val_loss: 0.2459 - val_acc: 0.9113\n",
            "Epoch 6/20\n",
            "241/241 [==============================] - 6s 24ms/step - loss: 0.1337 - acc: 0.9548 - val_loss: 0.2793 - val_acc: 0.8996\n",
            "Epoch 7/20\n",
            "241/241 [==============================] - 6s 26ms/step - loss: 0.1062 - acc: 0.9688 - val_loss: 0.2609 - val_acc: 0.9083\n",
            "Epoch 8/20\n",
            "241/241 [==============================] - 6s 24ms/step - loss: 0.0847 - acc: 0.9783 - val_loss: 0.2771 - val_acc: 0.8932\n",
            "Epoch 9/20\n",
            "241/241 [==============================] - 6s 24ms/step - loss: 0.0662 - acc: 0.9863 - val_loss: 0.2759 - val_acc: 0.9062\n",
            "Epoch 10/20\n",
            "241/241 [==============================] - 6s 24ms/step - loss: 0.0511 - acc: 0.9918 - val_loss: 0.2841 - val_acc: 0.9021\n",
            "Epoch 11/20\n",
            "241/241 [==============================] - 6s 24ms/step - loss: 0.0396 - acc: 0.9951 - val_loss: 0.2956 - val_acc: 0.8982\n",
            "Epoch 12/20\n",
            "241/241 [==============================] - 6s 24ms/step - loss: 0.0317 - acc: 0.9967 - val_loss: 0.3164 - val_acc: 0.9066\n",
            "Epoch 13/20\n",
            "241/241 [==============================] - 6s 24ms/step - loss: 0.0255 - acc: 0.9974 - val_loss: 0.3230 - val_acc: 0.9044\n",
            "Epoch 14/20\n",
            "241/241 [==============================] - 6s 24ms/step - loss: 0.0203 - acc: 0.9979 - val_loss: 0.3250 - val_acc: 0.9001\n",
            "Epoch 15/20\n",
            "241/241 [==============================] - 6s 24ms/step - loss: 0.0166 - acc: 0.9983 - val_loss: 0.3410 - val_acc: 0.9010\n",
            "Epoch 16/20\n",
            "241/241 [==============================] - 6s 26ms/step - loss: 0.0139 - acc: 0.9983 - val_loss: 0.3542 - val_acc: 0.9023\n",
            "Epoch 17/20\n",
            "241/241 [==============================] - 6s 26ms/step - loss: 0.0119 - acc: 0.9986 - val_loss: 0.3583 - val_acc: 0.9000\n",
            "Epoch 18/20\n",
            "241/241 [==============================] - 6s 26ms/step - loss: 0.0101 - acc: 0.9988 - val_loss: 0.3709 - val_acc: 0.9025\n",
            "Epoch 19/20\n",
            "241/241 [==============================] - 6s 26ms/step - loss: 0.0090 - acc: 0.9988 - val_loss: 0.3814 - val_acc: 0.9017\n",
            "Epoch 20/20\n",
            "241/241 [==============================] - 6s 26ms/step - loss: 0.0076 - acc: 0.9990 - val_loss: 0.3879 - val_acc: 0.8992\n"
          ]
        }
      ],
      "source": [
        "# Model training\n",
        "\n",
        "cnn_model_history = cnn_model.fit(X_train, y_train, batch_size=128, epochs=20, verbose=1, validation_split=0.2)"
      ]
    },
    {
      "cell_type": "code",
      "execution_count": null,
      "metadata": {
        "id": "-K4ZTQHugAaQ",
        "outputId": "db14f4cc-a072-4f19-8d72-0c0b875ade0f"
      },
      "outputs": [
        {
          "name": "stdout",
          "output_type": "stream",
          "text": [
            "301/301 [==============================] - 1s 3ms/step\n",
            "Classification Report:\n",
            "              precision    recall  f1-score   support\n",
            "\n",
            "    Negative       0.92      0.93      0.92      6644\n",
            "    Positive       0.84      0.82      0.83      2967\n",
            "\n",
            "    accuracy                           0.90      9611\n",
            "   macro avg       0.88      0.87      0.88      9611\n",
            "weighted avg       0.89      0.90      0.89      9611\n",
            "\n",
            "F1 Score: 0.8279276203482417\n",
            "Recall: 0.8173238961914392\n",
            "Precision: 0.838810100311311\n"
          ]
        },
        {
          "data": {
            "image/png": "[encoded data removed]",
            "text/plain": [
              "<Figure size 640x480 with 2 Axes>"
            ]
          },
          "metadata": {},
          "output_type": "display_data"
        }
      ],
      "source": [
        "y_pred = cnn_model.predict(X_test)\n",
        "y_pred_binary = (y_pred > 0.5).astype(int)  # Convert probabilities to binary predictions (0 or 1)\n",
        "\n",
        "# Compute confusion matrix\n",
        "cm = confusion_matrix(y_test, y_pred_binary)\n",
        "from sklearn.metrics import confusion_matrix, ConfusionMatrixDisplay, classification_report, f1_score, recall_score, precision_score\n",
        "print(\"Classification Report:\")\n",
        "print(classification_report(y_test, y_pred_binary, target_names=['Negative', 'Positive']))\n",
        "\n",
        "# Calculate F1 score, recall, and precision\n",
        "f1 = f1_score(y_test, y_pred_binary)\n",
        "recall = recall_score(y_test, y_pred_binary)\n",
        "precision = precision_score(y_test, y_pred_binary)\n",
        "\n",
        "print(f\"F1 Score: {f1}\")\n",
        "print(f\"Recall: {recall}\")\n",
        "print(f\"Precision: {precision}\")\n",
        "\n",
        "# Display confusion matrix\n",
        "disp = ConfusionMatrixDisplay(confusion_matrix=cm, display_labels=['Negative', 'Positive'])\n",
        "disp.plot(cmap=plt.cm.Blues)\n",
        "plt.title('Confusion Matrix')\n",
        "plt.show()"
      ]
    },
    {
      "cell_type": "code",
      "execution_count": null,
      "metadata": {
        "colab": {
          "base_uri": "https://localhost:8080/"
        },
        "id": "fTqK3hr6VNUi",
        "outputId": "34bb869e-8209-4a1c-d8ba-1a5e699e9c11"
      },
      "outputs": [
        {
          "name": "stdout",
          "output_type": "stream",
          "text": [
            "301/301 [==============================] - 1s 4ms/step - loss: 0.3987 - acc: 0.8951\n"
          ]
        }
      ],
      "source": [
        "# Predictions on the Test Set\n",
        "\n",
        "score = cnn_model.evaluate(X_test, y_test, verbose=1)"
      ]
    },
    {
      "cell_type": "code",
      "execution_count": null,
      "metadata": {
        "colab": {
          "base_uri": "https://localhost:8080/"
        },
        "id": "bQhafHPmSvpG",
        "outputId": "a6f68212-361d-4d9c-e6ce-389a72a00672"
      },
      "outputs": [
        {
          "name": "stdout",
          "output_type": "stream",
          "text": [
            "Test Score: 0.3986630141735077\n",
            "Test Accuracy: 0.8951202034950256\n"
          ]
        }
      ],
      "source": [
        "# Model Performance\n",
        "\n",
        "print(\"Test Score:\", score[0])\n",
        "print(\"Test Accuracy:\", score[1])"
      ]
    },
    {
      "cell_type": "code",
      "execution_count": null,
      "metadata": {
        "colab": {
          "base_uri": "https://localhost:8080/",
          "height": 573
        },
        "id": "YLdZa9GNSyAy",
        "outputId": "738c6044-36be-497d-c91d-13f944e2247a"
      },
      "outputs": [
        {
          "data": {
            "image/png": "[encoded data removed]",
            "text/plain": [
              "<Figure size 640x480 with 1 Axes>"
            ]
          },
          "metadata": {},
          "output_type": "display_data"
        },
        {
          "data": {
            "image/png": "[encoded data removed]",
            "text/plain": [
              "<Figure size 640x480 with 1 Axes>"
            ]
          },
          "metadata": {},
          "output_type": "display_data"
        }
      ],
      "source": [
        "# Model Performance Charts\n",
        "\n",
        "import matplotlib.pyplot as plt\n",
        "\n",
        "plt.plot(cnn_model_history.history['acc'])\n",
        "plt.plot(cnn_model_history.history['val_acc'])\n",
        "\n",
        "plt.title('model accuracy')\n",
        "plt.ylabel('accuracy')\n",
        "plt.xlabel('epoch')\n",
        "plt.legend(['train','test'], loc = 'upper left')\n",
        "plt.show()\n",
        "\n",
        "plt.plot(cnn_model_history.history['loss'])\n",
        "plt.plot(cnn_model_history.history['val_loss'])\n",
        "\n",
        "plt.title('model loss')\n",
        "plt.ylabel('loss')\n",
        "plt.xlabel('epoch')\n",
        "plt.legend(['train','test'], loc = 'upper left')\n",
        "plt.show()"
      ]
    },
    {
      "cell_type": "markdown",
      "metadata": {
        "id": "2QTts_XPS1Wn"
      },
      "source": [
        "## Recurrent Neural Network (LSTM)"
      ]
    },
    {
      "cell_type": "code",
      "execution_count": null,
      "metadata": {
        "id": "1iLtWqoMVwU5"
      },
      "outputs": [],
      "source": [
        "from keras.layers import LSTM,Bidirectional\n",
        "from tensorflow.keras.optimizers import Adam"
      ]
    },
    {
      "cell_type": "code",
      "execution_count": null,
      "metadata": {
        "id": "0ccqZ-8kS2el"
      },
      "outputs": [],
      "source": [
        "lstm_model = Sequential()\n",
        "\n",
        "# Embedding Layer (with GloVe embeddings)\n",
        "embedding_layer = Embedding(vocab_length, 100, weights=[embedding_matrix], input_length=maxlen, trainable=False)\n",
        "lstm_model.add(embedding_layer)\n",
        "\n",
        "# Bidirectional LSTM Layer\n",
        "lstm_model.add(Bidirectional(LSTM(128, return_sequences=True)))\n",
        "lstm_model.add(Dropout(0.5))\n",
        "\n",
        "# Additional LSTM Layer\n",
        "lstm_model.add(LSTM(64))\n",
        "lstm_model.add(Dropout(0.5))\n",
        "\n",
        "# Dense Layer\n",
        "lstm_model.add(Dense(32, activation='relu'))\n",
        "lstm_model.add(Dropout(0.5))\n",
        "\n",
        "# Output Layer\n",
        "lstm_model.add(Dense(1, activation='sigmoid'))\n",
        "\n",
        "\n"
      ]
    },
    {
      "cell_type": "code",
      "execution_count": null,
      "metadata": {
        "colab": {
          "base_uri": "https://localhost:8080/"
        },
        "id": "Zk00Ss9HS68g",
        "outputId": "efcccbd5-f0b8-499a-c9e4-6c1318445699"
      },
      "outputs": [
        {
          "name": "stdout",
          "output_type": "stream",
          "text": [
            "Model: \"sequential_2\"\n",
            "_________________________________________________________________\n",
            " Layer (type)                Output Shape              Param #   \n",
            "=================================================================\n",
            " embedding_2 (Embedding)     (None, 100, 100)          2485300   \n",
            "                                                                 \n",
            " bidirectional (Bidirectiona  (None, 100, 256)         234496    \n",
            " l)                                                              \n",
            "                                                                 \n",
            " dropout (Dropout)           (None, 100, 256)          0         \n",
            "                                                                 \n",
            " lstm_1 (LSTM)               (None, 64)                82176     \n",
            "                                                                 \n",
            " dropout_1 (Dropout)         (None, 64)                0         \n",
            "                                                                 \n",
            " dense_2 (Dense)             (None, 32)                2080      \n",
            "                                                                 \n",
            " dropout_2 (Dropout)         (None, 32)                0         \n",
            "                                                                 \n",
            " dense_3 (Dense)             (None, 1)                 33        \n",
            "                                                                 \n",
            "=================================================================\n",
            "Total params: 2,804,085\n",
            "Trainable params: 318,785\n",
            "Non-trainable params: 2,485,300\n",
            "_________________________________________________________________\n",
            "None\n"
          ]
        }
      ],
      "source": [
        "# Compile the model with class weights\n",
        "class_weight = {0: 1.0, 1: 2.0}  # Adjust weights according to class imbalance\n",
        "lstm_model.compile(optimizer=Adam(learning_rate=0.001), loss='binary_crossentropy', metrics=['accuracy'])\n",
        "\n",
        "# Model summary\n",
        "print(lstm_model.summary())\n"
      ]
    },
    {
      "cell_type": "code",
      "execution_count": null,
      "metadata": {
        "colab": {
          "base_uri": "https://localhost:8080/"
        },
        "id": "QMhhaZUaS9jF",
        "outputId": "e5053dcc-35a9-4a3e-92bb-3515795ee0c7"
      },
      "outputs": [
        {
          "name": "stdout",
          "output_type": "stream",
          "text": [
            "Epoch 1/6\n",
            "481/481 [==============================] - 172s 349ms/step - loss: 0.7426 - accuracy: 0.7219 - val_loss: 0.3425 - val_accuracy: 0.8729\n",
            "Epoch 2/6\n",
            "481/481 [==============================] - 162s 336ms/step - loss: 0.4680 - accuracy: 0.8771 - val_loss: 0.3114 - val_accuracy: 0.8832\n",
            "Epoch 3/6\n",
            "481/481 [==============================] - 163s 339ms/step - loss: 0.4516 - accuracy: 0.8800 - val_loss: 0.3308 - val_accuracy: 0.8676\n",
            "Epoch 4/6\n",
            "481/481 [==============================] - 167s 347ms/step - loss: 0.4120 - accuracy: 0.8906 - val_loss: 0.2601 - val_accuracy: 0.9036\n",
            "Epoch 5/6\n",
            "481/481 [==============================] - 164s 340ms/step - loss: 0.4010 - accuracy: 0.8942 - val_loss: 0.2580 - val_accuracy: 0.9034\n",
            "Epoch 6/6\n",
            "481/481 [==============================] - 163s 339ms/step - loss: 0.3846 - accuracy: 0.8984 - val_loss: 0.2657 - val_accuracy: 0.8922\n"
          ]
        }
      ],
      "source": [
        "# Train the model with class weights\n",
        "lstm_model_history = lstm_model.fit(X_train, y_train, batch_size=64, epochs=6, verbose=1, validation_split=0.2, class_weight=class_weight)"
      ]
    },
    {
      "cell_type": "code",
      "execution_count": null,
      "metadata": {
        "id": "NbP98bUsgAaT",
        "outputId": "beffdfaf-c1d8-431e-8dee-f808baaa766a"
      },
      "outputs": [
        {
          "name": "stdout",
          "output_type": "stream",
          "text": [
            "Epoch 1/6\n",
            "481/481 [==============================] - 144s 298ms/step - loss: 0.3655 - accuracy: 0.9019 - val_loss: 0.2606 - val_accuracy: 0.9048\n",
            "Epoch 2/6\n",
            "481/481 [==============================] - 150s 311ms/step - loss: 0.3635 - accuracy: 0.9025 - val_loss: 0.2851 - val_accuracy: 0.8905\n",
            "Epoch 3/6\n",
            "481/481 [==============================] - 150s 312ms/step - loss: 0.3418 - accuracy: 0.9120 - val_loss: 0.2762 - val_accuracy: 0.8969\n",
            "Epoch 4/6\n",
            "481/481 [==============================] - 152s 317ms/step - loss: 0.3358 - accuracy: 0.9119 - val_loss: 0.2829 - val_accuracy: 0.8947\n",
            "Epoch 5/6\n",
            "481/481 [==============================] - 152s 316ms/step - loss: 0.3148 - accuracy: 0.9177 - val_loss: 0.2710 - val_accuracy: 0.8948\n",
            "Epoch 6/6\n",
            "481/481 [==============================] - 152s 317ms/step - loss: 0.2931 - accuracy: 0.9250 - val_loss: 0.2639 - val_accuracy: 0.8888\n"
          ]
        }
      ],
      "source": [
        "# Train the model with class weights\n",
        "lstm_model_history = lstm_model.fit(X_train, y_train, batch_size=64, epochs=6, verbose=1, validation_split=0.2, class_weight=class_weight)"
      ]
    },
    {
      "cell_type": "code",
      "execution_count": null,
      "metadata": {
        "id": "rFpx9qPtgAaU",
        "outputId": "5be0719e-3508-4be2-b91a-2d53dd61b6f9"
      },
      "outputs": [
        {
          "name": "stdout",
          "output_type": "stream",
          "text": [
            "Epoch 1/3\n",
            "481/481 [==============================] - 155s 323ms/step - loss: 0.2834 - accuracy: 0.9258 - val_loss: 0.2452 - val_accuracy: 0.9125\n",
            "Epoch 2/3\n",
            "481/481 [==============================] - 155s 323ms/step - loss: 0.2683 - accuracy: 0.9317 - val_loss: 0.2700 - val_accuracy: 0.9091\n",
            "Epoch 3/3\n",
            "481/481 [==============================] - 155s 323ms/step - loss: 0.2505 - accuracy: 0.9381 - val_loss: 0.2674 - val_accuracy: 0.9127\n"
          ]
        }
      ],
      "source": [
        "# Train the model with class weights\n",
        "lstm_model_history = lstm_model.fit(X_train, y_train, batch_size=64, epochs=3, verbose=1, validation_split=0.2, class_weight=class_weight)"
      ]
    },
    {
      "cell_type": "code",
      "execution_count": null,
      "metadata": {
        "id": "5UTRvH4UgAaU",
        "outputId": "0ce85cc4-f4bb-41f7-935a-d9ab69720cf4"
      },
      "outputs": [
        {
          "name": "stdout",
          "output_type": "stream",
          "text": [
            "Epoch 1/3\n",
            "481/481 [==============================] - 268s 558ms/step - loss: 0.2384 - accuracy: 0.9414 - val_loss: 0.2717 - val_accuracy: 0.9036\n",
            "Epoch 2/3\n",
            "481/481 [==============================] - 265s 550ms/step - loss: 0.2140 - accuracy: 0.9468 - val_loss: 0.2890 - val_accuracy: 0.9045\n",
            "Epoch 3/3\n",
            "481/481 [==============================] - 298s 619ms/step - loss: 0.1990 - accuracy: 0.9517 - val_loss: 0.3219 - val_accuracy: 0.9077\n"
          ]
        }
      ],
      "source": [
        "# Train the model with class weights\n",
        "lstm_model_history = lstm_model.fit(X_train, y_train, batch_size=64, epochs=3, verbose=1, validation_split=0.2, class_weight=class_weight)"
      ]
    },
    {
      "cell_type": "code",
      "execution_count": null,
      "metadata": {
        "colab": {
          "base_uri": "https://localhost:8080/"
        },
        "id": "w7il9EjzlAaR",
        "outputId": "dba86dd6-0380-4a7e-c592-cd9815155ab4"
      },
      "outputs": [
        {
          "name": "stdout",
          "output_type": "stream",
          "text": [
            "301/301 [==============================] - 19s 63ms/step - loss: 0.3942 - accuracy: 0.8761\n"
          ]
        }
      ],
      "source": [
        "# Predictions on the Test Set\n",
        "\n",
        "score = lstm_model.evaluate(X_test, y_test, verbose=1)"
      ]
    },
    {
      "cell_type": "code",
      "execution_count": null,
      "metadata": {
        "colab": {
          "base_uri": "https://localhost:8080/"
        },
        "id": "6j71n54zS9mc",
        "outputId": "f5c2d7be-beb5-47cb-8c1b-7db2784c2f66"
      },
      "outputs": [
        {
          "name": "stdout",
          "output_type": "stream",
          "text": [
            "Test Score: 0.3941951394081116\n",
            "Test Accuracy: 0.8760794997215271\n"
          ]
        }
      ],
      "source": [
        "# Model Performance\n",
        "\n",
        "print(\"Test Score:\", score[0])\n",
        "print(\"Test Accuracy:\", score[1])"
      ]
    },
    {
      "cell_type": "code",
      "execution_count": null,
      "metadata": {
        "id": "uei5WfewgAaV",
        "outputId": "66a3cc24-a51c-4846-b20b-f3bfe8621934"
      },
      "outputs": [
        {
          "name": "stdout",
          "output_type": "stream",
          "text": [
            "301/301 [==============================] - 18s 60ms/step\n",
            "Classification Report:\n",
            "              precision    recall  f1-score   support\n",
            "\n",
            "    Negative       0.93      0.92      0.93      6644\n",
            "    Positive       0.83      0.85      0.84      2967\n",
            "\n",
            "    accuracy                           0.90      9611\n",
            "   macro avg       0.88      0.88      0.88      9611\n",
            "weighted avg       0.90      0.90      0.90      9611\n",
            "\n",
            "F1 Score: 0.8374646481450674\n",
            "Recall: 0.8483316481294236\n",
            "Precision: 0.8268725361366623\n"
          ]
        },
        {
          "data": {
            "image/png": "[encoded data removed]",
            "text/plain": [
              "<Figure size 640x480 with 2 Axes>"
            ]
          },
          "metadata": {},
          "output_type": "display_data"
        }
      ],
      "source": [
        "y_pred = lstm_model.predict(X_test)\n",
        "y_pred_binary = (y_pred > 0.5).astype(int)  # Convert probabilities to binary predictions (0 or 1)\n",
        "\n",
        "# Compute confusion matrix\n",
        "cm = confusion_matrix(y_test, y_pred_binary)\n",
        "from sklearn.metrics import confusion_matrix, ConfusionMatrixDisplay, classification_report, f1_score, recall_score, precision_score\n",
        "print(\"Classification Report:\")\n",
        "print(classification_report(y_test, y_pred_binary, target_names=['Negative', 'Positive']))\n",
        "\n",
        "# Calculate F1 score, recall, and precision\n",
        "f1 = f1_score(y_test, y_pred_binary)\n",
        "recall = recall_score(y_test, y_pred_binary)\n",
        "precision = precision_score(y_test, y_pred_binary)\n",
        "\n",
        "print(f\"F1 Score: {f1}\")\n",
        "print(f\"Recall: {recall}\")\n",
        "print(f\"Precision: {precision}\")\n",
        "\n",
        "# Display confusion matrix\n",
        "disp = ConfusionMatrixDisplay(confusion_matrix=cm, display_labels=['Negative', 'Positive'])\n",
        "disp.plot(cmap=plt.cm.Blues)\n",
        "plt.title('Confusion Matrix')\n",
        "plt.show()"
      ]
    },
    {
      "cell_type": "code",
      "execution_count": null,
      "metadata": {
        "colab": {
          "base_uri": "https://localhost:8080/",
          "height": 573
        },
        "id": "LiibO1EuS9qB",
        "outputId": "a7691b0a-4eba-42c2-f934-a74d8bde2c7d"
      },
      "outputs": [
        {
          "data": {
            "image/png": "[encoded data removed]",
            "text/plain": [
              "<Figure size 640x480 with 1 Axes>"
            ]
          },
          "metadata": {},
          "output_type": "display_data"
        },
        {
          "data": {
            "image/png": "[encoded data removed]",
            "text/plain": [
              "<Figure size 640x480 with 1 Axes>"
            ]
          },
          "metadata": {},
          "output_type": "display_data"
        }
      ],
      "source": [
        "# Model Performance Charts\n",
        "\n",
        "import matplotlib.pyplot as plt\n",
        "\n",
        "plt.plot(lstm_model_history.history['accuracy'])\n",
        "plt.plot(lstm_model_history.history['val_accuracy'])\n",
        "\n",
        "plt.title('model accuracy')\n",
        "plt.ylabel('accuracy')\n",
        "plt.xlabel('epoch')\n",
        "plt.legend(['train','test'], loc='upper left')\n",
        "plt.show()\n",
        "\n",
        "plt.plot(lstm_model_history.history['loss'])\n",
        "plt.plot(lstm_model_history.history['val_loss'])\n",
        "\n",
        "plt.title('model loss')\n",
        "plt.ylabel('loss')\n",
        "plt.xlabel('epoch')\n",
        "plt.legend(['train','test'], loc='upper left')\n",
        "plt.show()"
      ]
    },
    {
      "cell_type": "code",
      "execution_count": null,
      "metadata": {
        "id": "id-_jsQqgAaW"
      },
      "outputs": [],
      "source": []
    },
    {
      "cell_type": "code",
      "execution_count": null,
      "metadata": {
        "id": "kyU4q7PsgAaW"
      },
      "outputs": [],
      "source": []
    },
    {
      "cell_type": "code",
      "execution_count": null,
      "metadata": {
        "id": "3FroK0nogAaX"
      },
      "outputs": [],
      "source": []
    },
    {
      "cell_type": "code",
      "execution_count": null,
      "metadata": {
        "id": "1sI-gy-agAaX"
      },
      "outputs": [],
      "source": []
    },
    {
      "cell_type": "code",
      "execution_count": null,
      "metadata": {
        "id": "lf0dcZcwgAaX"
      },
      "outputs": [],
      "source": []
    }
  ],
  "metadata": {
    "colab": {
      "collapsed_sections": [
        "q6FO9rxjxHe_"
      ],
      "provenance": [],
      "toc_visible": true
    },
    "kernelspec": {
      "display_name": "Python 3 (ipykernel)",
      "language": "python",
      "name": "python3"
    },
    "language_info": {
      "codemirror_mode": {
        "name": "ipython",
        "version": 3
      },
      "file_extension": ".py",
      "mimetype": "text/x-python",
      "name": "python",
      "nbconvert_exporter": "python",
      "pygments_lexer": "ipython3",
      "version": "3.9.7"
    }
  },
  "nbformat": 4,
  "nbformat_minor": 0
}